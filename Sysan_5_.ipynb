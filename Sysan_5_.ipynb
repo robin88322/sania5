{
 "cells": [
  {
   "cell_type": "code",
   "execution_count": 263,
   "metadata": {
    "colab": {},
    "colab_type": "code",
    "id": "OgvBSl18OUXH"
   },
   "outputs": [],
   "source": [
    "import pandas as pd\n",
    "import numpy as np\n",
    "import matplotlib.pyplot as plt"
   ]
  },
  {
   "cell_type": "code",
   "execution_count": 264,
   "metadata": {
    "colab": {
     "base_uri": "https://localhost:8080/",
     "height": 122
    },
    "colab_type": "code",
    "id": "FEuDc2ztOfHO",
    "outputId": "eb93cd67-62c2-4da7-9fda-612b98114224"
   },
   "outputs": [],
   "source": [
    "\n",
    "# from google.colab import drive\n",
    "# drive.mount('/content/drive')"
   ]
  },
  {
   "cell_type": "code",
   "execution_count": 265,
   "metadata": {
    "colab": {},
    "colab_type": "code",
    "id": "K2_BtA_ROUXN"
   },
   "outputs": [],
   "source": [
    "DATA_FOLDER = '/content/drive/My Drive/Sisan/Sysan5_data/'\n",
    "# не забудь поміняти папку\n",
    "DATA_FOLDER = '/home/robin/sania5/'"
   ]
  },
  {
   "cell_type": "code",
   "execution_count": 266,
   "metadata": {
    "colab": {},
    "colab_type": "code",
    "id": "WIehAG5IOUXQ"
   },
   "outputs": [],
   "source": [
    "mask = np.array(pd.read_csv(DATA_FOLDER+'mask.csv',delimiter=';',header=None))"
   ]
  },
  {
   "cell_type": "code",
   "execution_count": 267,
   "metadata": {
    "colab": {},
    "colab_type": "code",
    "id": "HF4CBx-LOUXT"
   },
   "outputs": [],
   "source": [
    "alpha_hat_raw = np.array(pd.read_csv(DATA_FOLDER+'alpha_hat.csv',delimiter=';',header=None))\n",
    "It_hat_raw = np.array(pd.read_csv(DATA_FOLDER+'It_hat.csv',delimiter=';',header=None))\n",
    "Id_hat_raw = np.array(pd.read_csv(DATA_FOLDER+'Id_hat.csv',delimiter=';',header=None))\n",
    "Ip_hat_raw = np.array(pd.read_csv(DATA_FOLDER+'Ip_hat.csv',delimiter=';',header=None))"
   ]
  },
  {
   "cell_type": "code",
   "execution_count": 268,
   "metadata": {
    "colab": {},
    "colab_type": "code",
    "id": "m6E96p1JOUXW"
   },
   "outputs": [],
   "source": [
    "def process_data(array):\n",
    "    data = array.copy()\n",
    "    data[data =='-']=-1\n",
    "    data = data.astype(np.float64)\n",
    "    return data"
   ]
  },
  {
   "cell_type": "code",
   "execution_count": 269,
   "metadata": {
    "colab": {},
    "colab_type": "code",
    "id": "aUHbTwPuOUXa"
   },
   "outputs": [],
   "source": [
    "alpha_hat = process_data(alpha_hat_raw)\n",
    "It_hat = process_data(It_hat_raw)\n",
    "Id_hat = process_data(Id_hat_raw)\n",
    "Ip_hat = process_data(Ip_hat_raw)"
   ]
  },
  {
   "cell_type": "code",
   "execution_count": 270,
   "metadata": {
    "colab": {
     "base_uri": "https://localhost:8080/",
     "height": 34
    },
    "colab_type": "code",
    "id": "KZmTxSZGOUXe",
    "outputId": "ac4aa9c5-6233-48ed-ade0-057cccc3bf58"
   },
   "outputs": [
    {
     "name": "stdout",
     "output_type": "stream",
     "text": [
      "4 7\n"
     ]
    }
   ],
   "source": [
    "n,m = alpha_hat.shape\n",
    "print(n,m)"
   ]
  },
  {
   "cell_type": "code",
   "execution_count": 271,
   "metadata": {
    "colab": {},
    "colab_type": "code",
    "id": "mBAvkr7yOUXi"
   },
   "outputs": [],
   "source": [
    "eta_def = 0.9\n",
    "table_T_plus = [[35, 40, 45, 50, 55, 60, 65, 70, 75, 80, 85],\n",
    "               [0.0,0.1,0.2,0.3,0.4,0.5,0.6,0.7,0.8,0.9,1]] #це типу мю, но соси хуй) роби з ними шо хочеш\n",
    "\n",
    "table_T_minus = [[2, 4, 6, 8, 10, 12, 14, 16, 18, 20, 22]]"
   ]
  },
  {
   "cell_type": "code",
   "execution_count": 272,
   "metadata": {
    "colab": {},
    "colab_type": "code",
    "id": "EVNki3tgOUXl"
   },
   "outputs": [],
   "source": [
    "def get_eta(i,j):\n",
    "    \"\"\"\n",
    "    int_inf_ind - integral information index\n",
    "    alpha  - one of coefs that show change dynamic of int_inf_ind\n",
    "    \"\"\"\n",
    "    return 1 - np.log2(1+alpha_hat[i,j]*get_I(i,j)*(7+gamma[i,j]))"
   ]
  },
  {
   "cell_type": "code",
   "execution_count": 273,
   "metadata": {
    "colab": {},
    "colab_type": "code",
    "id": "Zs0oyxO_OUXp"
   },
   "outputs": [],
   "source": [
    "def get_I(i,j):\n",
    "    \"\"\"\n",
    "    I_p - level of fullness\n",
    "    I_t - level of svoechasnist\n",
    "    I_d - level of dostovirnist\n",
    "    t - time\n",
    "    \"\"\"\n",
    "    return get_Ip(i,j)*get_It(i,j)*get_Id(i,j)\n",
    "\n",
    "def get_Ip(i,j):\n",
    "    res = 10*Ip_hat[i,j]*np.log10(1+alpha[i,j])*(t+1)**2\n",
    "    if res < 1:\n",
    "        return res\n",
    "    return 1\n",
    "\n",
    "def get_Id(i,j):\n",
    "    res = (1+0.5*beta[i,j]+gamma[i,j]*t)**2/((1+Id_hat[i,j])**2+0.4*alpha[i,j])\n",
    "    if res < 1:\n",
    "        return res\n",
    "    return 1\n",
    "\n",
    "def get_It(i,j):\n",
    "    res = 0.5*It_hat[i,j]*((4+10**-2 * alpha[i,j])*(1-3*beta[i,j]*t**2))\n",
    "    if 3*beta[i,j]*t**2 < 1:\n",
    "        return res\n",
    "    return 0"
   ]
  },
  {
   "cell_type": "code",
   "execution_count": 274,
   "metadata": {
    "colab": {},
    "colab_type": "code",
    "id": "2MTyqgTFOUX2"
   },
   "outputs": [],
   "source": [
    "def get_alpha(i,j):\n",
    "    return 0.5*(It_hat[i,j]+Ip_hat[i,j]*alpha_hat[i,j])\n",
    "\n",
    "def get_beta(i,j):\n",
    "    return np.exp(It_hat[i,j])*10**-4/(1+alpha_hat[i,j])**2\n",
    "\n",
    "def get_gamma(i,j):\n",
    "    return 1.5*np.exp(-0.5*(It_hat[i,j]+Id_hat[i,j]))*alpha_hat[i,j]"
   ]
  },
  {
   "cell_type": "code",
   "execution_count": 275,
   "metadata": {
    "colab": {},
    "colab_type": "code",
    "id": "3bSuWjhjOUX4"
   },
   "outputs": [],
   "source": [
    "alpha = np.zeros((n,m))\n",
    "beta = np.zeros((n,m))\n",
    "gamma = np.zeros((n,m))\n",
    "\n",
    "for i in range(n):\n",
    "    for j in range(m):\n",
    "        if alpha_hat[i,j] != -1:\n",
    "            alpha[i,j] = get_alpha(i,j)\n",
    "            beta[i,j] = get_beta(i,j)\n",
    "            gamma[i,j] = get_gamma(i,j)\n",
    "            "
   ]
  },
  {
   "cell_type": "code",
   "execution_count": 276,
   "metadata": {
    "colab": {},
    "colab_type": "code",
    "id": "Bn4BdnObOUXs"
   },
   "outputs": [],
   "source": [
    "t = 0\n",
    "hist_Ip = []\n",
    "hist_Id = []\n",
    "hist_It = []\n",
    "while True:\n",
    "    hist_Ip.append(get_Ip(0,0))\n",
    "    hist_Id.append(get_Id(0,0))\n",
    "    hist_It.append(get_It(0,0))\n",
    "    if get_It(0,0) == 0.0: break\n",
    "    t+=1"
   ]
  },
  {
   "cell_type": "code",
   "execution_count": 277,
   "metadata": {
    "colab": {
     "base_uri": "https://localhost:8080/",
     "height": 761
    },
    "colab_type": "code",
    "id": "MS7t7yXMOUXv",
    "outputId": "8f1b57ff-e919-4936-e019-3f49acae3bbc"
   },
   "outputs": [
    {
     "data": {
      "image/png": "[encoded data removed]",
      "text/plain": [
       "<Figure size 432x288 with 1 Axes>"
      ]
     },
     "metadata": {
      "needs_background": "light"
     },
     "output_type": "display_data"
    },
    {
     "data": {
      "image/png": "[encoded data removed]",
      "text/plain": [
       "<Figure size 432x288 with 1 Axes>"
      ]
     },
     "metadata": {
      "needs_background": "light"
     },
     "output_type": "display_data"
    },
    {
     "data": {
      "image/png": "[encoded data removed]",
      "text/plain": [
       "<Figure size 432x288 with 1 Axes>"
      ]
     },
     "metadata": {
      "needs_background": "light"
     },
     "output_type": "display_data"
    }
   ],
   "source": [
    "plt.plot(hist_Ip[:])\n",
    "plt.show()\n",
    "plt.plot(hist_Id[:])\n",
    "plt.show()\n",
    "plt.plot(hist_It[:])\n",
    "plt.show()"
   ]
  },
  {
   "cell_type": "code",
   "execution_count": 278,
   "metadata": {
    "colab": {
     "base_uri": "https://localhost:8080/",
     "height": 265
    },
    "colab_type": "code",
    "id": "8FlaegbSOUXy",
    "outputId": "a9753fa5-408a-4529-f73a-cb9269b0ec38"
   },
   "outputs": [
    {
     "data": {
      "image/png": "[encoded data removed]",
      "text/plain": [
       "<Figure size 432x288 with 1 Axes>"
      ]
     },
     "metadata": {
      "needs_background": "light"
     },
     "output_type": "display_data"
    }
   ],
   "source": [
    "for i in range(n):\n",
    "    for j in range(m):\n",
    "        if alpha_hat[i,j] != -1:\n",
    "            t = 10\n",
    "            hist_I = []\n",
    "            while True:\n",
    "                hist_I.append(get_eta(i,j))\n",
    "                if get_It(i,j) == 0.0: break\n",
    "                t+=1\n",
    "            plt.plot(hist_I)"
   ]
  },
  {
   "cell_type": "code",
   "execution_count": 279,
   "metadata": {
    "colab": {},
    "colab_type": "code",
    "id": "Vhp7qvZ1OUX7"
   },
   "outputs": [],
   "source": [
    "step = .1\n",
    "\n",
    "t = 10\n",
    "T = np.zeros((n,m),dtype=np.float64)\n",
    "\n",
    "while t < 100:\n",
    "    for i in range(n):\n",
    "        for j in range(m):\n",
    "            if alpha_hat[i,j] != -1:\n",
    "                alpha[i,j] = get_alpha(i,j)\n",
    "                beta[i,j] = get_beta(i,j)\n",
    "                gamma[i,j] = get_gamma(i,j)\n",
    "                eta = get_eta(i,j)\n",
    "                if T[i,j] == 0 and eta > eta_def:\n",
    "                    T[i,j] = max(t-step,0)\n",
    "                    \n",
    "    t += step\n",
    "    \n"
   ]
  },
  {
   "cell_type": "code",
   "execution_count": 280,
   "metadata": {
    "colab": {
     "base_uri": "https://localhost:8080/",
     "height": 85
    },
    "colab_type": "code",
    "id": "IGeziLxuOUX-",
    "outputId": "3230785f-3632-49e5-c2af-32d52876fc20"
   },
   "outputs": [
    {
     "data": {
      "text/plain": [
       "array([[54.9,  0. , 57.4, 64.4, 65.5, 57.4, 57.6],\n",
       "       [ 0. , 62.1, 54.8,  0. , 67.9, 70. ,  0. ],\n",
       "       [ 0. , 57. , 56.4,  0. , 65.1, 83.5,  0. ],\n",
       "       [57.4, 50.1, 53.7, 65.8, 76.4,  0. ,  0. ]])"
      ]
     },
     "execution_count": 280,
     "metadata": {},
     "output_type": "execute_result"
    }
   ],
   "source": [
    "T"
   ]
  },
  {
   "cell_type": "code",
   "execution_count": 281,
   "metadata": {
    "colab": {},
    "colab_type": "code",
    "id": "HU0t7T8tOUYB"
   },
   "outputs": [],
   "source": [
    "step = .1\n",
    "\n",
    "T1 = np.zeros((n,m),dtype=np.float64)\n",
    "T2 = np.zeros((n,m),dtype=np.float64)\n",
    "eta_plus = eta_def\n",
    "eta_minus = 0.1\n",
    "t=20\n",
    "while t < 100:\n",
    "    for i in range(n):\n",
    "        for j in range(m):\n",
    "            if alpha_hat[i,j] != -1:\n",
    "                eta = get_eta(i,j)\n",
    "    \n",
    "                if T2[i,j] == 0 and eta > eta_plus:\n",
    "                    T2[i,j] = max(t-step,0)\n",
    "                if T1[i,j] == 0 and eta > eta_minus:\n",
    "                    T1[i,j] = max(t-step,0)\n",
    "                    \n",
    "    t += step"
   ]
  },
  {
   "cell_type": "code",
   "execution_count": 282,
   "metadata": {
    "colab": {
     "base_uri": "https://localhost:8080/",
     "height": 85
    },
    "colab_type": "code",
    "id": "Fg2Ux_rAOUYD",
    "outputId": "41ee1ff7-a2f6-4b8c-8090-98cd1710e0af"
   },
   "outputs": [
    {
     "data": {
      "text/plain": [
       "array([[28.1,  0. , 45.3, 56.1, 62.3, 45.4, 53.6],\n",
       "       [ 0. , 52.9, 45.4,  0. , 62.7, 59.8,  0. ],\n",
       "       [ 0. , 48.9, 50.5,  0. , 52.6, 72.1,  0. ],\n",
       "       [45.3, 41.2, 48.9, 60.2, 50.9,  0. ,  0. ]])"
      ]
     },
     "execution_count": 282,
     "metadata": {},
     "output_type": "execute_result"
    }
   ],
   "source": [
    "T1"
   ]
  },
  {
   "cell_type": "code",
   "execution_count": 283,
   "metadata": {
    "colab": {
     "base_uri": "https://localhost:8080/",
     "height": 85
    },
    "colab_type": "code",
    "id": "Y9a_1TAlOUYG",
    "outputId": "e8830a4c-ba63-48e9-df66-d78fbe39e6bf"
   },
   "outputs": [
    {
     "data": {
      "text/plain": [
       "array([[54.9,  0. , 57.4, 64.4, 65.5, 57.4, 57.6],\n",
       "       [ 0. , 62.1, 54.8,  0. , 67.9, 70. ,  0. ],\n",
       "       [ 0. , 57. , 56.4,  0. , 65.1, 83.5,  0. ],\n",
       "       [57.4, 50.1, 53.7, 65.8, 76.4,  0. ,  0. ]])"
      ]
     },
     "execution_count": 283,
     "metadata": {},
     "output_type": "execute_result"
    }
   ],
   "source": [
    "T2"
   ]
  },
  {
   "cell_type": "code",
   "execution_count": 284,
   "metadata": {},
   "outputs": [
    {
     "data": {
      "text/plain": [
       "28.100000000000115"
      ]
     },
     "execution_count": 284,
     "metadata": {},
     "output_type": "execute_result"
    }
   ],
   "source": [
    "np.amin(T1[alpha_hat != -1])"
   ]
  },
  {
   "cell_type": "code",
   "execution_count": 285,
   "metadata": {},
   "outputs": [
    {
     "data": {
      "text/plain": [
       "83.49999999999952"
      ]
     },
     "execution_count": 285,
     "metadata": {},
     "output_type": "execute_result"
    }
   ],
   "source": [
    "np.amax(T2[alpha_hat != -1])"
   ]
  },
  {
   "cell_type": "code",
   "execution_count": 286,
   "metadata": {},
   "outputs": [
    {
     "name": "stdout",
     "output_type": "stream",
     "text": [
      "[65.50000000000054, 70.00000000000028, 83.49999999999952, 76.39999999999992]\n"
     ]
    }
   ],
   "source": [
    "Smax = []\n",
    "for i in range(n):\n",
    "    T22 = T2[i]\n",
    "    Smax.append(np.amax(T22[T22 != 0])) \n",
    "print(Smax)"
   ]
  },
  {
   "cell_type": "code",
   "execution_count": 287,
   "metadata": {
    "scrolled": true
   },
   "outputs": [
    {
     "name": "stdout",
     "output_type": "stream",
     "text": [
      "[28.100000000000115, 45.40000000000036, 48.90000000000041, 41.2000000000003]\n"
     ]
    }
   ],
   "source": [
    "Smin = []\n",
    "for i in range(n):\n",
    "    T11 = T1[i]\n",
    "    Smin.append(np.amin(T11[T11!=0])) \n",
    "print(Smin)"
   ]
  },
  {
   "cell_type": "code",
   "execution_count": 288,
   "metadata": {},
   "outputs": [
    {
     "name": "stdout",
     "output_type": "stream",
     "text": [
      "[54.90000000000053, 54.80000000000053, 56.40000000000055, 50.10000000000046]\n"
     ]
    }
   ],
   "source": [
    "kaka= []\n",
    "for i in range(n):\n",
    "    T00 = T[i]\n",
    "    kaka.append(np.amin(T00[T00!=0])) \n",
    "print(kaka)"
   ]
  },
  {
   "cell_type": "code",
   "execution_count": 289,
   "metadata": {},
   "outputs": [],
   "source": [
    "etta_huinia = {0.5 : [25, 53 ],\n",
    "               0.6 : [26, 54 ],\n",
    "               0.7 : [27, 55 ],\n",
    "               0.8 : [28, 56 ],\n",
    "               0.9 : [29, 57 ]\n",
    "              }\n",
    "t_minus, t_plus = etta_huinia[eta_def]"
   ]
  },
  {
   "cell_type": "code",
   "execution_count": 290,
   "metadata": {},
   "outputs": [
    {
     "name": "stdout",
     "output_type": "stream",
     "text": [
      "0 середня херня\n",
      "1 середня херня\n",
      "2 середня херня\n",
      "3 середня херня\n"
     ]
    }
   ],
   "source": [
    "for i in range(n):\n",
    "    if (kaka[i]<t_minus):\n",
    "        print(f\"{i} критична херня\")\n",
    "    elif (kaka[i] > t_plus):\n",
    "        print(f\"{i} заебісь херня\")\n",
    "    else: print(f\"{i} середня херня\")"
   ]
  },
  {
   "cell_type": "code",
   "execution_count": null,
   "metadata": {},
   "outputs": [],
   "source": []
  },
  {
   "cell_type": "code",
   "execution_count": null,
   "metadata": {},
   "outputs": [],
   "source": []
  }
 ],
 "metadata": {
  "colab": {
   "name": "Sysan 5 .ipynb",
   "provenance": [],
   "toc_visible": true
  },
  "kernelspec": {
   "display_name": "Python 3",
   "language": "python",
   "name": "python3"
  },
  "language_info": {
   "codemirror_mode": {
    "name": "ipython",
    "version": 3
   },
   "file_extension": ".py",
   "mimetype": "text/x-python",
   "name": "python",
   "nbconvert_exporter": "python",
   "pygments_lexer": "ipython3",
   "version": "3.6.8"
  }
 },
 "nbformat": 4,
 "nbformat_minor": 1
}
