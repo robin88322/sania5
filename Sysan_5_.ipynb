{
  "nbformat": 4,
  "nbformat_minor": 0,
  "metadata": {
    "kernelspec": {
      "display_name": "Python 3",
      "language": "python",
      "name": "python3"
    },
    "language_info": {
      "codemirror_mode": {
        "name": "ipython",
        "version": 3
      },
      "file_extension": ".py",
      "mimetype": "text/x-python",
      "name": "python",
      "nbconvert_exporter": "python",
      "pygments_lexer": "ipython3",
      "version": "3.7.3"
    },
    "colab": {
      "name": "Sysan 5 .ipynb",
      "provenance": [],
      "toc_visible": true,
      "include_colab_link": true
    }
  },
  "cells": [
    {
      "cell_type": "markdown",
      "metadata": {
        "id": "view-in-github",
        "colab_type": "text"
      },
      "source": [
        "<a href=\"https://colab.research.google.com/github/robin88322/sania5/blob/master/Sysan_5_.ipynb\" target=\"_parent\"><img src=\"https://colab.research.google.com/assets/colab-badge.svg\" alt=\"Open In Colab\"/></a>"
      ]
    },
    {
      "cell_type": "code",
      "metadata": {
        "id": "OgvBSl18OUXH",
        "colab_type": "code",
        "colab": {}
      },
      "source": [
        "import pandas as pd\n",
        "import numpy as np\n",
        "import matplotlib.pyplot as plt"
      ],
      "execution_count": 0,
      "outputs": []
    },
    {
      "cell_type": "code",
      "metadata": {
        "id": "FEuDc2ztOfHO",
        "colab_type": "code",
        "outputId": "823bd595-b5ae-4ef0-b153-eb238d8459a1",
        "colab": {
          "base_uri": "https://localhost:8080/",
          "height": 122
        }
      },
      "source": [
        "\n",
        "from google.colab import drive\n",
        "drive.mount('/content/drive')"
      ],
      "execution_count": 2,
      "outputs": [
        {
          "output_type": "stream",
          "text": [
            "Go to this URL in a browser: https://accounts.google.com/o/oauth2/auth?client_id=947318989803-6bn6qk8qdgf4n4g3pfee6491hc0brc4i.apps.googleusercontent.com&redirect_uri=urn%3aietf%3awg%3aoauth%3a2.0%3aoob&response_type=code&scope=email%20https%3a%2f%2fwww.googleapis.com%2fauth%2fdocs.test%20https%3a%2f%2fwww.googleapis.com%2fauth%2fdrive%20https%3a%2f%2fwww.googleapis.com%2fauth%2fdrive.photos.readonly%20https%3a%2f%2fwww.googleapis.com%2fauth%2fpeopleapi.readonly\n",
            "\n",
            "Enter your authorization code:\n",
            "··········\n",
            "Mounted at /content/drive\n"
          ],
          "name": "stdout"
        }
      ]
    },
    {
      "cell_type": "code",
      "metadata": {
        "id": "K2_BtA_ROUXN",
        "colab_type": "code",
        "colab": {}
      },
      "source": [
        "DATA_FOLDER = '/content/drive/My Drive/Sisan/Sysan5_data/'\n",
        "# не забудь поміняти папку"
      ],
      "execution_count": 0,
      "outputs": []
    },
    {
      "cell_type": "code",
      "metadata": {
        "id": "WIehAG5IOUXQ",
        "colab_type": "code",
        "colab": {}
      },
      "source": [
        "mask = np.array(pd.read_csv(DATA_FOLDER+'mask.csv',delimiter=';',header=None))"
      ],
      "execution_count": 0,
      "outputs": []
    },
    {
      "cell_type": "code",
      "metadata": {
        "id": "HF4CBx-LOUXT",
        "colab_type": "code",
        "colab": {}
      },
      "source": [
        "alpha_hat_raw = np.array(pd.read_csv(DATA_FOLDER+'alpha_hat.csv',delimiter=';',header=None))\n",
        "It_hat_raw = np.array(pd.read_csv(DATA_FOLDER+'It_hat.csv',delimiter=';',header=None))\n",
        "Id_hat_raw = np.array(pd.read_csv(DATA_FOLDER+'Id_hat.csv',delimiter=';',header=None))\n",
        "Ip_hat_raw = np.array(pd.read_csv(DATA_FOLDER+'Ip_hat.csv',delimiter=';',header=None))"
      ],
      "execution_count": 0,
      "outputs": []
    },
    {
      "cell_type": "code",
      "metadata": {
        "id": "m6E96p1JOUXW",
        "colab_type": "code",
        "colab": {}
      },
      "source": [
        "def process_data(array):\n",
        "    data = array.copy()\n",
        "    data[data =='-']=-1\n",
        "    data = data.astype(np.float64)\n",
        "    return data"
      ],
      "execution_count": 0,
      "outputs": []
    },
    {
      "cell_type": "code",
      "metadata": {
        "id": "aUHbTwPuOUXa",
        "colab_type": "code",
        "colab": {}
      },
      "source": [
        "alpha_hat = process_data(alpha_hat_raw)\n",
        "It_hat = process_data(It_hat_raw)\n",
        "Id_hat = process_data(Id_hat_raw)\n",
        "Ip_hat = process_data(Ip_hat_raw)"
      ],
      "execution_count": 0,
      "outputs": []
    },
    {
      "cell_type": "code",
      "metadata": {
        "id": "KZmTxSZGOUXe",
        "colab_type": "code",
        "outputId": "16c39115-4265-4168-d0a9-caf11463a5ab",
        "colab": {
          "base_uri": "https://localhost:8080/",
          "height": 34
        }
      },
      "source": [
        "n,m = alpha_hat.shape\n",
        "print(n,m)"
      ],
      "execution_count": 8,
      "outputs": [
        {
          "output_type": "stream",
          "text": [
            "4 7\n"
          ],
          "name": "stdout"
        }
      ]
    },
    {
      "cell_type": "code",
      "metadata": {
        "id": "mBAvkr7yOUXi",
        "colab_type": "code",
        "colab": {}
      },
      "source": [
        "eta_def = 0.6"
      ],
      "execution_count": 0,
      "outputs": []
    },
    {
      "cell_type": "code",
      "metadata": {
        "id": "EVNki3tgOUXl",
        "colab_type": "code",
        "colab": {}
      },
      "source": [
        "def get_eta(i,j):\n",
        "    \"\"\"\n",
        "    int_inf_ind - integral information index\n",
        "    alpha  - one of coefs that show change dynamic of int_inf_ind\n",
        "    \"\"\"\n",
        "    return 1 - np.log2(1+alpha_hat[i,j]*get_I(i,j)*(7+gamma[i,j]))"
      ],
      "execution_count": 0,
      "outputs": []
    },
    {
      "cell_type": "code",
      "metadata": {
        "id": "Zs0oyxO_OUXp",
        "colab_type": "code",
        "colab": {}
      },
      "source": [
        "def get_I(i,j):\n",
        "    \"\"\"\n",
        "    I_p - level of fullness\n",
        "    I_t - level of svoechasnist\n",
        "    I_d - level of dostovirnist\n",
        "    t - time\n",
        "    \"\"\"\n",
        "    return get_Ip(i,j)*get_It(i,j)*get_Id(i,j)\n",
        "\n",
        "def get_Ip(i,j):\n",
        "    res = 10*Ip_hat[i,j]*np.log10(1+alpha[i,j])*(t+1)**2\n",
        "    if res < 1:\n",
        "        return res\n",
        "    return 1\n",
        "\n",
        "def get_Id(i,j):\n",
        "    res = (1+0.5*beta[i,j]+gamma[i,j]*t)**2/((1+Id_hat[i,j])**2+0.4*alpha[i,j])\n",
        "    if res < 1:\n",
        "        return res\n",
        "    return 1\n",
        "\n",
        "def get_It(i,j):\n",
        "    res = 0.5*It_hat[i,j]*((4+10**-2 * alpha[i,j])*(1-3*beta[i,j]*t**2))\n",
        "    if 3*beta[i,j]*t**2 < 1:\n",
        "        return res\n",
        "    return 0"
      ],
      "execution_count": 0,
      "outputs": []
    },
    {
      "cell_type": "code",
      "metadata": {
        "id": "2MTyqgTFOUX2",
        "colab_type": "code",
        "colab": {}
      },
      "source": [
        "def get_alpha(i,j):\n",
        "    return 0.5*(It_hat[i,j]+Ip_hat[i,j]*alpha_hat[i,j])\n",
        "\n",
        "def get_beta(i,j):\n",
        "    return np.exp(It_hat[i,j])*10**-4/(1+alpha_hat[i,j])**2\n",
        "\n",
        "def get_gamma(i,j):\n",
        "    return 1.5*np.exp(-0.5*(It_hat[i,j]+Id_hat[i,j]))*alpha_hat[i,j]"
      ],
      "execution_count": 0,
      "outputs": []
    },
    {
      "cell_type": "code",
      "metadata": {
        "id": "3bSuWjhjOUX4",
        "colab_type": "code",
        "colab": {}
      },
      "source": [
        "alpha = np.zeros((n,m))\n",
        "beta = np.zeros((n,m))\n",
        "gamma = np.zeros((n,m))\n",
        "\n",
        "for i in range(n):\n",
        "    for j in range(m):\n",
        "        if alpha_hat[i,j] != -1:\n",
        "            alpha[i,j] = get_alpha(i,j)\n",
        "            beta[i,j] = get_beta(i,j)\n",
        "            gamma[i,j] = get_gamma(i,j)\n",
        "            "
      ],
      "execution_count": 0,
      "outputs": []
    },
    {
      "cell_type": "code",
      "metadata": {
        "id": "Bn4BdnObOUXs",
        "colab_type": "code",
        "colab": {}
      },
      "source": [
        "t = 0\n",
        "hist_Ip = []\n",
        "hist_Id = []\n",
        "hist_It = []\n",
        "while True:\n",
        "    hist_Ip.append(get_Ip(0,0))\n",
        "    hist_Id.append(get_Id(0,0))\n",
        "    hist_It.append(get_It(0,0))\n",
        "    if get_It(0,0) == 0.0: break\n",
        "    t+=1"
      ],
      "execution_count": 0,
      "outputs": []
    },
    {
      "cell_type": "code",
      "metadata": {
        "id": "MS7t7yXMOUXv",
        "colab_type": "code",
        "outputId": "624e75c6-700f-4e91-87f5-4492d57d54eb",
        "colab": {
          "base_uri": "https://localhost:8080/",
          "height": 761
        }
      },
      "source": [
        "plt.plot(hist_Ip[:])\n",
        "plt.show()\n",
        "plt.plot(hist_Id[:])\n",
        "plt.show()\n",
        "plt.plot(hist_It[:])\n",
        "plt.show()"
      ],
      "execution_count": 15,
      "outputs": [
        {
          "output_type": "display_data",
          "data": {
            "image/png": "[encoded data removed]",
            "text/plain": [
              "<Figure size 432x288 with 1 Axes>"
            ]
          },
          "metadata": {
            "tags": []
          }
        },
        {
          "output_type": "display_data",
          "data": {
            "image/png": "[encoded data removed]",
            "text/plain": [
              "<Figure size 432x288 with 1 Axes>"
            ]
          },
          "metadata": {
            "tags": []
          }
        },
        {
          "output_type": "display_data",
          "data": {
            "image/png": "[encoded data removed]",
            "text/plain": [
              "<Figure size 432x288 with 1 Axes>"
            ]
          },
          "metadata": {
            "tags": []
          }
        }
      ]
    },
    {
      "cell_type": "code",
      "metadata": {
        "id": "8FlaegbSOUXy",
        "colab_type": "code",
        "outputId": "5f4bff68-b0f0-4af1-ce81-2f745a370ad7",
        "colab": {
          "base_uri": "https://localhost:8080/",
          "height": 265
        }
      },
      "source": [
        "for i in range(n):\n",
        "    for j in range(m):\n",
        "        if alpha_hat[i,j] != -1:\n",
        "            t = 10\n",
        "            hist_I = []\n",
        "            while True:\n",
        "                hist_I.append(get_eta(i,j))\n",
        "                if get_It(i,j) == 0.0: break\n",
        "                t+=1\n",
        "            plt.plot(hist_I)"
      ],
      "execution_count": 16,
      "outputs": [
        {
          "output_type": "display_data",
          "data": {
            "image/png": "[encoded data removed]",
            "text/plain": [
              "<Figure size 432x288 with 1 Axes>"
            ]
          },
          "metadata": {
            "tags": []
          }
        }
      ]
    },
    {
      "cell_type": "code",
      "metadata": {
        "id": "Vhp7qvZ1OUX7",
        "colab_type": "code",
        "colab": {}
      },
      "source": [
        "step = .1\n",
        "\n",
        "t = 10\n",
        "T = np.zeros((n,m),dtype=np.float64)\n",
        "eta_def = 0.6\n",
        "\n",
        "while t < 100:\n",
        "    for i in range(n):\n",
        "        for j in range(m):\n",
        "            if alpha_hat[i,j] != -1:\n",
        "                alpha[i,j] = get_alpha(i,j)\n",
        "                beta[i,j] = get_beta(i,j)\n",
        "                gamma[i,j] = get_gamma(i,j)\n",
        "                eta = get_eta(i,j)\n",
        "                if T[i,j] == 0 and eta > eta_def:\n",
        "                    T[i,j] = max(t-step,0)\n",
        "                    \n",
        "    t += step\n",
        "    \n"
      ],
      "execution_count": 0,
      "outputs": []
    },
    {
      "cell_type": "code",
      "metadata": {
        "id": "IGeziLxuOUX-",
        "colab_type": "code",
        "outputId": "8229d9f4-0c8b-4ea0-ede0-776bf6644516",
        "colab": {
          "base_uri": "https://localhost:8080/",
          "height": 85
        }
      },
      "source": [
        "T"
      ],
      "execution_count": 18,
      "outputs": [
        {
          "output_type": "execute_result",
          "data": {
            "text/plain": [
              "array([[48.2,  0. , 53.9, 62. , 64.5, 54. , 56.4],\n",
              "       [ 0. , 59.4, 52. ,  0. , 66.3, 67. ,  0. ],\n",
              "       [ 0. , 54.6, 54.6,  0. , 61.5, 80.1,  0. ],\n",
              "       [53.9, 47.5, 52.2, 64.1, 69.5,  0. ,  0. ]])"
            ]
          },
          "metadata": {
            "tags": []
          },
          "execution_count": 18
        }
      ]
    },
    {
      "cell_type": "code",
      "metadata": {
        "id": "HU0t7T8tOUYB",
        "colab_type": "code",
        "colab": {}
      },
      "source": [
        "step = .1\n",
        "\n",
        "T1 = np.zeros((n,m),dtype=np.float64)\n",
        "T2 = np.zeros((n,m),dtype=np.float64)\n",
        "eta_plus = 0.6\n",
        "eta_minus = 0.1\n",
        "t=20\n",
        "while t < 100:\n",
        "    for i in range(n):\n",
        "        for j in range(m):\n",
        "            if alpha_hat[i,j] != -1:\n",
        "                eta = get_eta(i,j)\n",
        "    \n",
        "                if T2[i,j] == 0 and eta > eta_plus:\n",
        "                    T2[i,j] = max(t-step,0)\n",
        "                if T1[i,j] == 0 and eta > eta_minus:\n",
        "                    T1[i,j] = max(t-step,0)\n",
        "                    \n",
        "    t += step"
      ],
      "execution_count": 0,
      "outputs": []
    },
    {
      "cell_type": "code",
      "metadata": {
        "id": "Fg2Ux_rAOUYD",
        "colab_type": "code",
        "outputId": "6d2209ac-576a-48bd-a9d2-5bd4b087f2a9",
        "colab": {
          "base_uri": "https://localhost:8080/",
          "height": 85
        }
      },
      "source": [
        "T1"
      ],
      "execution_count": 51,
      "outputs": [
        {
          "output_type": "execute_result",
          "data": {
            "text/plain": [
              "array([[28.1,  0. , 45.3, 56.1, 62.3, 45.4, 53.6],\n",
              "       [ 0. , 52.9, 45.4,  0. , 62.7, 59.8,  0. ],\n",
              "       [ 0. , 48.9, 50.5,  0. , 52.6, 72.1,  0. ],\n",
              "       [45.3, 41.2, 48.9, 60.2, 50.9,  0. ,  0. ]])"
            ]
          },
          "metadata": {
            "tags": []
          },
          "execution_count": 51
        }
      ]
    },
    {
      "cell_type": "code",
      "metadata": {
        "id": "Y9a_1TAlOUYG",
        "colab_type": "code",
        "outputId": "77dc0f51-ae11-4f2a-b6ca-34402025731c",
        "colab": {
          "base_uri": "https://localhost:8080/",
          "height": 85
        }
      },
      "source": [
        "T2"
      ],
      "execution_count": 52,
      "outputs": [
        {
          "output_type": "execute_result",
          "data": {
            "text/plain": [
              "array([[48.2,  0. , 53.9, 62. , 64.5, 54. , 56.4],\n",
              "       [ 0. , 59.4, 52. ,  0. , 66.3, 67. ,  0. ],\n",
              "       [ 0. , 54.6, 54.6,  0. , 61.5, 80.1,  0. ],\n",
              "       [53.9, 47.5, 52.2, 64.1, 69.5,  0. ,  0. ]])"
            ]
          },
          "metadata": {
            "tags": []
          },
          "execution_count": 52
        }
      ]
    },
    {
      "cell_type": "code",
      "metadata": {
        "id": "PwqnJkkqL1q-",
        "colab_type": "code",
        "colab": {
          "base_uri": "https://localhost:8080/",
          "height": 34
        },
        "outputId": "758dd37b-c274-4b48-b121-103dd2b28b2c"
      },
      "source": [
        "Smax = []\n",
        "for i in range(n):\n",
        "    T22 = T2[i]\n",
        "    Smax.append(np.amax(T22[T22 != 0])) \n",
        "print(Smax)"
      ],
      "execution_count": 22,
      "outputs": [
        {
          "output_type": "stream",
          "text": [
            "[64.5000000000006, 67.00000000000045, 80.09999999999971, 69.50000000000031]\n"
          ],
          "name": "stdout"
        }
      ]
    },
    {
      "cell_type": "code",
      "metadata": {
        "id": "_3v6ZAWtL6iZ",
        "colab_type": "code",
        "colab": {
          "base_uri": "https://localhost:8080/",
          "height": 34
        },
        "outputId": "0e81e090-9ab0-45bb-9dfb-8022a7366db7"
      },
      "source": [
        "Smin = []\n",
        "for i in range(n):\n",
        "    T11 = T1[i]\n",
        "    Smin.append(np.amin(T11[T11!=0])) \n",
        "print(Smin)"
      ],
      "execution_count": 23,
      "outputs": [
        {
          "output_type": "stream",
          "text": [
            "[28.100000000000115, 45.40000000000036, 48.90000000000041, 41.2000000000003]\n"
          ],
          "name": "stdout"
        }
      ]
    },
    {
      "cell_type": "code",
      "metadata": {
        "id": "vFt1R-sPMj_u",
        "colab_type": "code",
        "colab": {}
      },
      "source": [
        "def get_intervals(eta_plus):\n",
        "  global alpha_hat\n",
        "  global alpha\n",
        "  global beta\n",
        "  global gamma\n",
        "  global It_hat\n",
        "  global Id_hat\n",
        "  global Ip_hat\n",
        "  global t\n",
        "  T1 = np.zeros((n,m),dtype=np.float64)\n",
        "  T2 = np.zeros((n,m),dtype=np.float64)\n",
        "  eta_minus = 0.1\n",
        "  t=20\n",
        "  step = 0.1\n",
        "  while t < 100:\n",
        "      for i in range(n):\n",
        "          for j in range(m):\n",
        "              if alpha_hat[i,j] != -1:\n",
        "                  eta = get_eta(i,j)\n",
        "                  if T2[i,j] == 0 and eta > eta_plus:\n",
        "                      T2[i,j] = max(t-step,0)\n",
        "                  if T1[i,j] == 0 and eta > eta_minus:\n",
        "                      T1[i,j] = max(t-step,0)\n",
        "                      \n",
        "      t += step\n",
        "  Smax = []\n",
        "  for i in range(n):\n",
        "      T22 = T2[i]\n",
        "      Smax.append(np.amax(T22[T22 != 0])) \n",
        "  Smin = []\n",
        "  for i in range(n):\n",
        "      T11 = T1[i]\n",
        "      Smin.append(np.amin(T11[T11 != 0])) \n",
        "  return Smin,Smax"
      ],
      "execution_count": 0,
      "outputs": []
    },
    {
      "cell_type": "code",
      "metadata": {
        "id": "P1Ly-NjNQPrC",
        "colab_type": "code",
        "colab": {}
      },
      "source": [
        "def classify(eta):\n",
        "  Smin, Smax = get_intervals(eta)\n",
        "  t_minus, t_plus = etta_huinia[eta]\n",
        "  print(\"eta: \",eta)\n",
        "  for i in range(n):\n",
        "      if (Smin[i]<t_minus):\n",
        "          print(f\"{i} критична херня\")\n",
        "      elif (Smax[i] > t_plus):\n",
        "          print(f\"{i} заебісь херня\")\n",
        "      else: print(f\"{i} середня херня\")"
      ],
      "execution_count": 0,
      "outputs": []
    },
    {
      "cell_type": "code",
      "metadata": {
        "id": "v_HzzT_NL7zE",
        "colab_type": "code",
        "colab": {}
      },
      "source": [
        "etta_huinia = {0.5 : [45, 80 ],\n",
        "               0.6 : [40, 69 ],\n",
        "               0.7 : [20, 69 ],\n",
        "               0.8 : [15, 69 ],\n",
        "               0.9 : [10, 69 ]\n",
        "              }"
      ],
      "execution_count": 0,
      "outputs": []
    },
    {
      "cell_type": "code",
      "metadata": {
        "id": "OCM1vLLMMDs8",
        "colab_type": "code",
        "colab": {
          "base_uri": "https://localhost:8080/",
          "height": 442
        },
        "outputId": "c1768005-fef0-4e55-9804-8829eed5c3b6"
      },
      "source": [
        "etas = [0.5,0.6,0.7,0.8,0.9]\n",
        "for eta in etas:\n",
        "  classify(eta)"
      ],
      "execution_count": 105,
      "outputs": [
        {
          "output_type": "stream",
          "text": [
            "eta:  0.5\n",
            "0 критична херня\n",
            "1 середня херня\n",
            "2 середня херня\n",
            "3 критична херня\n",
            "eta:  0.6\n",
            "0 критична херня\n",
            "1 середня херня\n",
            "2 заебісь херня\n",
            "3 заебісь херня\n",
            "eta:  0.7\n",
            "0 середня херня\n",
            "1 середня херня\n",
            "2 заебісь херня\n",
            "3 заебісь херня\n",
            "eta:  0.8\n",
            "0 середня херня\n",
            "1 заебісь херня\n",
            "2 заебісь херня\n",
            "3 заебісь херня\n",
            "eta:  0.9\n",
            "0 середня херня\n",
            "1 заебісь херня\n",
            "2 заебісь херня\n",
            "3 заебісь херня\n"
          ],
          "name": "stdout"
        }
      ]
    },
    {
      "cell_type": "code",
      "metadata": {
        "id": "cnu9oZYsRY3n",
        "colab_type": "code",
        "colab": {
          "base_uri": "https://localhost:8080/",
          "height": 51
        },
        "outputId": "aa12d9cb-db9e-407f-e298-36e6a915ed74"
      },
      "source": [
        "get_intervals(0.5)"
      ],
      "execution_count": 84,
      "outputs": [
        {
          "output_type": "execute_result",
          "data": {
            "text/plain": [
              "([28.100000000000115, 45.40000000000036, 48.90000000000041, 41.2000000000003],\n",
              " [64.10000000000062, 65.80000000000052, 78.79999999999978, 66.60000000000048])"
            ]
          },
          "metadata": {
            "tags": []
          },
          "execution_count": 84
        }
      ]
    },
    {
      "cell_type": "code",
      "metadata": {
        "id": "NNTL7wdcRdF-",
        "colab_type": "code",
        "colab": {}
      },
      "source": [
        ""
      ],
      "execution_count": 0,
      "outputs": []
    }
  ]
}